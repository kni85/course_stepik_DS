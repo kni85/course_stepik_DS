{
 "nbformat": 4,
 "nbformat_minor": 0,
 "metadata": {
  "colab": {
   "provenance": [],
   "include_colab_link": true
  },
  "kernelspec": {
   "name": "python3",
   "language": "python",
   "display_name": "Python 3 (ipykernel)"
  },
  "language_info": {
   "name": "python"
  }
 },
 "cells": [
  {
   "cell_type": "markdown",
   "metadata": {
    "id": "view-in-github",
    "colab_type": "text"
   },
   "source": [
    "<a href=\"https://colab.research.google.com/github/kni85/course_stepik_DS/blob/main/decorators/homework_04.ipynb\" target=\"_parent\"><img src=\"https://colab.research.google.com/assets/colab-badge.svg\" alt=\"Open In Colab\"/></a>"
   ]
  },
  {
   "cell_type": "markdown",
   "source": [
    "# Домашнее задание: декораторы"
   ],
   "metadata": {
    "id": "QY4qPJPpgyIS"
   }
  },
  {
   "cell_type": "markdown",
   "source": [
    "## Импорт библиотек, установка констант"
   ],
   "metadata": {
    "id": "Chacc6YchldZ"
   }
  },
  {
   "cell_type": "code",
   "source": [
    "import requests\n",
    "import time\n",
    "from functools import wraps\n",
    "\n",
    "import re\n",
    "\n",
    "from random import randint"
   ],
   "metadata": {
    "id": "w8iKrWvwhrFd",
    "ExecuteTime": {
     "end_time": "2024-03-30T07:12:11.672048Z",
     "start_time": "2024-03-30T07:12:11.667831Z"
    }
   },
   "execution_count": 18,
   "outputs": []
  },
  {
   "cell_type": "code",
   "source": [
    "BOOK_PATH = 'https://www.gutenberg.org/files/2638/2638-0.txt'"
   ],
   "metadata": {
    "id": "-LRkS0fSi8Np",
    "ExecuteTime": {
     "end_time": "2024-03-30T07:12:11.733645Z",
     "start_time": "2024-03-30T07:12:11.728819Z"
    }
   },
   "execution_count": 19,
   "outputs": []
  },
  {
   "cell_type": "markdown",
   "source": [
    "## Задание 1"
   ],
   "metadata": {
    "id": "kARfL8ifg4MH"
   }
  },
  {
   "cell_type": "code",
   "execution_count": 20,
   "metadata": {
    "id": "hNHNWPhngrUl",
    "ExecuteTime": {
     "end_time": "2024-03-30T07:12:11.749195Z",
     "start_time": "2024-03-30T07:12:11.744893Z"
    }
   },
   "outputs": [],
   "source": [
    "def benchmark(func):\n",
    "    \"\"\"\n",
    "    Декоратор, выводящий время, которое заняло выполнение декорируемой функции\n",
    "    \"\"\"\n",
    "    \n",
    "    @wraps(func)\n",
    "    def wrapper(*args, **kwargs):\n",
    "        start = time.perf_counter() \n",
    "        result = func(*args, **kwargs)\n",
    "        end = time.perf_counter() \n",
    "        print(f'Время выполнения функции {func.__name__}: {end - start:.6f}')\n",
    "        return result\n",
    "    return wrapper"
   ]
  },
  {
   "cell_type": "markdown",
   "source": [
    "## Задание 2"
   ],
   "metadata": {
    "id": "tGlbUKjihL5n"
   }
  },
  {
   "cell_type": "code",
   "source": [
    "def logging(func):\n",
    "    \"\"\"\n",
    "    Декоратор, который выводит параметры с которыми была вызвана функция\n",
    "    \"\"\"\n",
    "    \n",
    "    @wraps(func)\n",
    "    def wrapper(*args, **kwargs):\n",
    "        print('Функция вызвана с параметрами:')\n",
    "        print(args, kwargs)\n",
    "        result = func(*args, **kwargs)\n",
    "        return result\n",
    "    return wrapper"
   ],
   "metadata": {
    "id": "wugOZDLqhNe-",
    "ExecuteTime": {
     "end_time": "2024-03-30T07:12:11.756862Z",
     "start_time": "2024-03-30T07:12:11.751350Z"
    }
   },
   "execution_count": 21,
   "outputs": []
  },
  {
   "cell_type": "markdown",
   "source": [
    "## Задание 3"
   ],
   "metadata": {
    "id": "Sq1tv5fshTfv"
   }
  },
  {
   "cell_type": "code",
   "source": [
    "def counter(func):\n",
    "    \"\"\"\n",
    "    Декоратор, считающий и выводящий количество вызовов декорируемой функции\n",
    "    \"\"\"\n",
    "\n",
    "    def wrapper(*args, **kwargs):\n",
    "        ...\n",
    "    ...\n",
    "    return wrapper"
   ],
   "metadata": {
    "id": "9nyvuxXkhVeb",
    "ExecuteTime": {
     "end_time": "2024-03-30T07:12:11.763352Z",
     "start_time": "2024-03-30T07:12:11.759437Z"
    }
   },
   "execution_count": 22,
   "outputs": []
  },
  {
   "cell_type": "markdown",
   "source": [
    "## Задание 4"
   ],
   "metadata": {
    "id": "uHn8Adfshz5q"
   }
  },
  {
   "cell_type": "code",
   "source": [
    "def memo(func):\n",
    "  \"\"\"\n",
    "  Декоратор, запоминающий результаты исполнения функции func, чьи аргументы args должны быть хешируемыми\n",
    "  \"\"\"\n",
    "  cache = {}\n",
    "\n",
    "  def fmemo(*args):\n",
    "    ...\n",
    "\n",
    "  fmemo.cache = cache\n",
    "  return fmemo"
   ],
   "metadata": {
    "id": "R7uu6WtGifNX",
    "ExecuteTime": {
     "end_time": "2024-03-30T07:12:11.769362Z",
     "start_time": "2024-03-30T07:12:11.765689Z"
    }
   },
   "execution_count": 23,
   "outputs": []
  },
  {
   "cell_type": "markdown",
   "source": [
    "## Тестирование"
   ],
   "metadata": {
    "id": "Zn5UQCa_izxo"
   }
  },
  {
   "cell_type": "code",
   "source": [
    "# @counter\n",
    "@logging\n",
    "@benchmark\n",
    "def word_count(word, url=BOOK_PATH):\n",
    "    \"\"\"\n",
    "    Функция для посчета указанного слова на html-странице\n",
    "    \"\"\"\n",
    "\n",
    "    # отправляем запрос в библиотеку Gutenberg и забираем текст\n",
    "    raw = requests.get(url).text\n",
    "\n",
    "    # заменяем в тексте все небуквенные символы на пробелы\n",
    "    processed_book = re.sub('[\\W]+' , ' ', raw).lower()\n",
    "\n",
    "    # считаем\n",
    "    cnt = len(re.findall(word.lower(), processed_book))\n",
    "\n",
    "    return f\"Cлово {word} встречается {cnt} раз\"\n",
    "\n",
    "print(word_count('whole'))"
   ],
   "metadata": {
    "id": "CHCJ64I8i2QB",
    "ExecuteTime": {
     "end_time": "2024-03-30T07:12:13.388026Z",
     "start_time": "2024-03-30T07:12:11.784181Z"
    }
   },
   "execution_count": 24,
   "outputs": [
    {
     "name": "stderr",
     "output_type": "stream",
     "text": [
      "<>:13: SyntaxWarning: invalid escape sequence '\\W'\n",
      "<>:13: SyntaxWarning: invalid escape sequence '\\W'\n",
      "C:\\Users\\Nikita\\AppData\\Local\\Temp\\ipykernel_15736\\2838906031.py:13: SyntaxWarning: invalid escape sequence '\\W'\n",
      "  processed_book = re.sub('[\\W]+' , ' ', raw).lower()\n"
     ]
    },
    {
     "name": "stdout",
     "output_type": "stream",
     "text": [
      "Функция вызвана с параметрами:\n",
      "('whole',) {}\n",
      "Время выполнения функции word_count: 1.599700\n",
      "Cлово whole встречается 176 раз\n"
     ]
    }
   ]
  },
  {
   "cell_type": "code",
   "source": [
    "def fib(n):\n",
    "    if n < 2:\n",
    "        return n\n",
    "    return fib(n-2) + fib(n-1)"
   ],
   "metadata": {
    "id": "ZE4Rfn-hh3k3",
    "ExecuteTime": {
     "end_time": "2024-03-30T07:12:13.395506Z",
     "start_time": "2024-03-30T07:12:13.389033Z"
    }
   },
   "execution_count": 25,
   "outputs": []
  },
  {
   "cell_type": "code",
   "source": [
    "# измеряем время выполнения\n",
    "..."
   ],
   "metadata": {
    "id": "Io94NyjiiXG4",
    "ExecuteTime": {
     "end_time": "2024-03-30T07:12:13.407933Z",
     "start_time": "2024-03-30T07:12:13.396661Z"
    }
   },
   "execution_count": 26,
   "outputs": []
  },
  {
   "cell_type": "code",
   "source": [
    "@memo\n",
    "def fib(n):\n",
    "    if n < 2:\n",
    "        return n\n",
    "    return fib(n-2) + fib(n-1)"
   ],
   "metadata": {
    "id": "W9B3e-t9iTUj",
    "ExecuteTime": {
     "end_time": "2024-03-30T07:12:13.414568Z",
     "start_time": "2024-03-30T07:12:13.411185Z"
    }
   },
   "execution_count": 27,
   "outputs": []
  },
  {
   "cell_type": "code",
   "source": [
    "# измеряем время выполнения\n",
    "..."
   ],
   "metadata": {
    "id": "Sk6_4KQaidkh",
    "ExecuteTime": {
     "end_time": "2024-03-30T07:12:13.421929Z",
     "start_time": "2024-03-30T07:12:13.416490Z"
    }
   },
   "execution_count": 28,
   "outputs": []
  }
 ]
}
