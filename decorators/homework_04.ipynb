{
 "nbformat": 4,
 "nbformat_minor": 0,
 "metadata": {
  "colab": {
   "provenance": [],
   "include_colab_link": true
  },
  "kernelspec": {
   "name": "python3",
   "language": "python",
   "display_name": "Python 3 (ipykernel)"
  },
  "language_info": {
   "name": "python"
  }
 },
 "cells": [
  {
   "cell_type": "markdown",
   "metadata": {
    "id": "view-in-github",
    "colab_type": "text"
   },
   "source": [
    "<a href=\"https://colab.research.google.com/github/kni85/course_stepik_DS/blob/main/decorators/homework_04.ipynb\" target=\"_parent\"><img src=\"https://colab.research.google.com/assets/colab-badge.svg\" alt=\"Open In Colab\"/></a>"
   ]
  },
  {
   "cell_type": "markdown",
   "source": [
    "# Домашнее задание: декораторы"
   ],
   "metadata": {
    "id": "QY4qPJPpgyIS"
   }
  },
  {
   "cell_type": "markdown",
   "source": [
    "## Импорт библиотек, установка констант"
   ],
   "metadata": {
    "id": "Chacc6YchldZ"
   }
  },
  {
   "cell_type": "code",
   "source": [
    "import requests\n",
    "import time\n",
    "from functools import wraps\n",
    "import re\n",
    "import warnings\n",
    "warnings.filterwarnings(\"ignore\")\n",
    "\n",
    "from random import randint"
   ],
   "metadata": {
    "id": "w8iKrWvwhrFd",
    "ExecuteTime": {
     "end_time": "2024-03-30T07:45:44.531616Z",
     "start_time": "2024-03-30T07:45:44.480545Z"
    }
   },
   "execution_count": 1,
   "outputs": []
  },
  {
   "cell_type": "code",
   "source": [
    "BOOK_PATH = 'https://www.gutenberg.org/files/2638/2638-0.txt'"
   ],
   "metadata": {
    "id": "-LRkS0fSi8Np",
    "ExecuteTime": {
     "end_time": "2024-03-30T07:45:45.880285Z",
     "start_time": "2024-03-30T07:45:45.872563Z"
    }
   },
   "execution_count": 2,
   "outputs": []
  },
  {
   "cell_type": "markdown",
   "source": [
    "## Задание 1"
   ],
   "metadata": {
    "id": "kARfL8ifg4MH"
   }
  },
  {
   "cell_type": "code",
   "execution_count": 3,
   "metadata": {
    "id": "hNHNWPhngrUl",
    "ExecuteTime": {
     "end_time": "2024-03-30T07:45:47.435970Z",
     "start_time": "2024-03-30T07:45:47.430039Z"
    }
   },
   "outputs": [],
   "source": [
    "def benchmark(func):\n",
    "    \"\"\"\n",
    "    Декоратор, выводящий время, которое заняло выполнение декорируемой функции\n",
    "    \"\"\"\n",
    "    \n",
    "    @wraps(func)\n",
    "    def wrapper(*args, **kwargs):\n",
    "        start = time.perf_counter() \n",
    "        result = func(*args, **kwargs)\n",
    "        end = time.perf_counter() \n",
    "        print(f'Время выполнения функции {func.__name__}: {end - start:.6f}')\n",
    "        return result\n",
    "    return wrapper"
   ]
  },
  {
   "cell_type": "markdown",
   "source": [
    "## Задание 2"
   ],
   "metadata": {
    "id": "tGlbUKjihL5n"
   }
  },
  {
   "cell_type": "code",
   "source": [
    "def logging(func):\n",
    "    \"\"\"\n",
    "    Декоратор, который выводит параметры с которыми была вызвана функция\n",
    "    \"\"\"\n",
    "    \n",
    "    @wraps(func)\n",
    "    def wrapper(*args, **kwargs):\n",
    "        print('Функция вызвана с параметрами:')\n",
    "        print(args, kwargs)\n",
    "        result = func(*args, **kwargs)\n",
    "        return result\n",
    "    return wrapper"
   ],
   "metadata": {
    "id": "wugOZDLqhNe-",
    "ExecuteTime": {
     "end_time": "2024-03-30T07:45:48.918386Z",
     "start_time": "2024-03-30T07:45:48.914410Z"
    }
   },
   "execution_count": 4,
   "outputs": []
  },
  {
   "cell_type": "markdown",
   "source": [
    "## Задание 3"
   ],
   "metadata": {
    "id": "Sq1tv5fshTfv"
   }
  },
  {
   "cell_type": "code",
   "source": [
    "def counter(func):\n",
    "    \"\"\"\n",
    "    Декоратор, считающий и выводящий количество вызовов декорируемой функции\n",
    "    \"\"\"\n",
    "\n",
    "    def wrapper(*args, **kwargs):\n",
    "        if '_counter' not in globals():\n",
    "            global _counter\n",
    "            _counter = 1\n",
    "        else:\n",
    "            # global _counter\n",
    "            try:\n",
    "                _counter += 1\n",
    "            except:\n",
    "                _counter = 1\n",
    "        print(f'Функция была вызвана: {_counter} раз')\n",
    "        result = func(*args, **kwargs)\n",
    "        return result    \n",
    "    return wrapper"
   ],
   "metadata": {
    "id": "9nyvuxXkhVeb",
    "ExecuteTime": {
     "end_time": "2024-03-30T07:45:50.550648Z",
     "start_time": "2024-03-30T07:45:50.545130Z"
    }
   },
   "execution_count": 5,
   "outputs": []
  },
  {
   "cell_type": "markdown",
   "source": [
    "## Задание 4"
   ],
   "metadata": {
    "id": "uHn8Adfshz5q"
   }
  },
  {
   "cell_type": "code",
   "source": [
    "def memo(func):\n",
    "  \"\"\"\n",
    "  Декоратор, запоминающий результаты исполнения функции func, чьи аргументы args должны быть хешируемыми\n",
    "  \"\"\"\n",
    "  cache = {}\n",
    "\n",
    "  def fmemo(*args):\n",
    "    ...\n",
    "\n",
    "  fmemo.cache = cache\n",
    "  return fmemo"
   ],
   "metadata": {
    "id": "R7uu6WtGifNX",
    "ExecuteTime": {
     "end_time": "2024-03-30T07:12:11.769362Z",
     "start_time": "2024-03-30T07:12:11.765689Z"
    }
   },
   "execution_count": 23,
   "outputs": []
  },
  {
   "cell_type": "markdown",
   "source": [
    "## Тестирование"
   ],
   "metadata": {
    "id": "Zn5UQCa_izxo"
   }
  },
  {
   "cell_type": "code",
   "source": [
    "@counter\n",
    "@logging\n",
    "@benchmark\n",
    "def word_count(word, url=BOOK_PATH):\n",
    "    \"\"\"\n",
    "    Функция для посчета указанного слова на html-странице\n",
    "    \"\"\"\n",
    "\n",
    "    # отправляем запрос в библиотеку Gutenberg и забираем текст\n",
    "    raw = requests.get(url).text\n",
    "\n",
    "    # заменяем в тексте все небуквенные символы на пробелы\n",
    "    processed_book = re.sub('[\\W]+' , ' ', raw).lower()\n",
    "\n",
    "    # считаем\n",
    "    cnt = len(re.findall(word.lower(), processed_book))\n",
    "\n",
    "    return f\"Cлово {word} встречается {cnt} раз\"\n",
    "\n",
    "print(word_count('whole'))"
   ],
   "metadata": {
    "id": "CHCJ64I8i2QB",
    "ExecuteTime": {
     "end_time": "2024-03-30T07:45:59.234144Z",
     "start_time": "2024-03-30T07:45:57.271409Z"
    }
   },
   "execution_count": 6,
   "outputs": [
    {
     "name": "stdout",
     "output_type": "stream",
     "text": [
      "Функция была вызвана: 1 раз\n",
      "Функция вызвана с параметрами:\n",
      "('whole',) {}\n",
      "Время выполнения функции word_count: 1.958114\n",
      "Cлово whole встречается 176 раз\n"
     ]
    }
   ]
  },
  {
   "cell_type": "code",
   "source": [
    "def fib(n):\n",
    "    if n < 2:\n",
    "        return n\n",
    "    return fib(n-2) + fib(n-1)"
   ],
   "metadata": {
    "id": "ZE4Rfn-hh3k3",
    "ExecuteTime": {
     "end_time": "2024-03-30T07:12:13.395506Z",
     "start_time": "2024-03-30T07:12:13.389033Z"
    }
   },
   "execution_count": 25,
   "outputs": []
  },
  {
   "cell_type": "code",
   "source": [
    "# измеряем время выполнения\n",
    "..."
   ],
   "metadata": {
    "id": "Io94NyjiiXG4",
    "ExecuteTime": {
     "end_time": "2024-03-30T07:12:13.407933Z",
     "start_time": "2024-03-30T07:12:13.396661Z"
    }
   },
   "execution_count": 26,
   "outputs": []
  },
  {
   "cell_type": "code",
   "source": [
    "@memo\n",
    "def fib(n):\n",
    "    if n < 2:\n",
    "        return n\n",
    "    return fib(n-2) + fib(n-1)"
   ],
   "metadata": {
    "id": "W9B3e-t9iTUj",
    "ExecuteTime": {
     "end_time": "2024-03-30T07:12:13.414568Z",
     "start_time": "2024-03-30T07:12:13.411185Z"
    }
   },
   "execution_count": 27,
   "outputs": []
  },
  {
   "cell_type": "code",
   "source": [
    "# измеряем время выполнения\n",
    "..."
   ],
   "metadata": {
    "id": "Sk6_4KQaidkh",
    "ExecuteTime": {
     "end_time": "2024-03-30T07:12:13.421929Z",
     "start_time": "2024-03-30T07:12:13.416490Z"
    }
   },
   "execution_count": 28,
   "outputs": []
  }
 ]
}
