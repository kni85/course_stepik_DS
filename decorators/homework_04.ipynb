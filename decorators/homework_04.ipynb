{
 "nbformat": 4,
 "nbformat_minor": 0,
 "metadata": {
  "colab": {
   "provenance": [],
   "include_colab_link": true
  },
  "kernelspec": {
   "name": "python3",
   "language": "python",
   "display_name": "Python 3 (ipykernel)"
  },
  "language_info": {
   "name": "python"
  }
 },
 "cells": [
  {
   "cell_type": "markdown",
   "metadata": {
    "id": "view-in-github",
    "colab_type": "text"
   },
   "source": [
    "<a href=\"https://colab.research.google.com/github/kni85/course_stepik_DS/blob/main/decorators/homework_04.ipynb\" target=\"_parent\"><img src=\"https://colab.research.google.com/assets/colab-badge.svg\" alt=\"Open In Colab\"/></a>"
   ]
  },
  {
   "cell_type": "markdown",
   "source": [
    "# Домашнее задание: декораторы"
   ],
   "metadata": {
    "id": "QY4qPJPpgyIS"
   }
  },
  {
   "cell_type": "markdown",
   "source": [
    "## Импорт библиотек, установка констант"
   ],
   "metadata": {
    "id": "Chacc6YchldZ"
   }
  },
  {
   "cell_type": "code",
   "source": [
    "import requests\n",
    "import time\n",
    "from functools import wraps\n",
    "import re\n",
    "import typing\n",
    "import warnings\n",
    "warnings.filterwarnings(\"ignore\")"
   ],
   "metadata": {
    "id": "w8iKrWvwhrFd",
    "ExecuteTime": {
     "end_time": "2024-03-30T08:49:38.647609Z",
     "start_time": "2024-03-30T08:49:38.565854Z"
    }
   },
   "execution_count": 1,
   "outputs": []
  },
  {
   "cell_type": "code",
   "source": [
    "BOOK_PATH = 'https://www.gutenberg.org/files/2638/2638-0.txt'"
   ],
   "metadata": {
    "id": "-LRkS0fSi8Np",
    "ExecuteTime": {
     "end_time": "2024-03-30T08:49:45.624296Z",
     "start_time": "2024-03-30T08:49:45.618439Z"
    }
   },
   "execution_count": 2,
   "outputs": []
  },
  {
   "cell_type": "markdown",
   "source": [
    "## Задание 1"
   ],
   "metadata": {
    "id": "kARfL8ifg4MH"
   }
  },
  {
   "cell_type": "code",
   "execution_count": 3,
   "metadata": {
    "id": "hNHNWPhngrUl",
    "ExecuteTime": {
     "end_time": "2024-03-30T08:49:47.420561Z",
     "start_time": "2024-03-30T08:49:47.415680Z"
    }
   },
   "outputs": [],
   "source": [
    "def benchmark(func):\n",
    "    \"\"\"\n",
    "    Декоратор, выводящий время, которое заняло выполнение декорируемой функции\n",
    "    \"\"\"\n",
    "    \n",
    "    @wraps(func)\n",
    "    def wrapper(*args, **kwargs):\n",
    "        start = time.perf_counter() \n",
    "        result = func(*args, **kwargs)\n",
    "        end = time.perf_counter() \n",
    "        print(f'Время выполнения функции {func.__name__}: {end - start:.6f}')\n",
    "        return result\n",
    "    return wrapper"
   ]
  },
  {
   "cell_type": "markdown",
   "source": [
    "## Задание 2"
   ],
   "metadata": {
    "id": "tGlbUKjihL5n"
   }
  },
  {
   "cell_type": "code",
   "source": [
    "def logging(func):\n",
    "    \"\"\"\n",
    "    Декоратор, который выводит параметры с которыми была вызвана функция\n",
    "    \"\"\"\n",
    "    \n",
    "    @wraps(func)\n",
    "    def wrapper(*args, **kwargs):\n",
    "        print('Функция вызвана с параметрами:')\n",
    "        print(args, kwargs)\n",
    "        result = func(*args, **kwargs)\n",
    "        return result\n",
    "    return wrapper"
   ],
   "metadata": {
    "id": "wugOZDLqhNe-",
    "ExecuteTime": {
     "end_time": "2024-03-30T08:49:50.038643Z",
     "start_time": "2024-03-30T08:49:50.034766Z"
    }
   },
   "execution_count": 4,
   "outputs": []
  },
  {
   "cell_type": "markdown",
   "source": [
    "## Задание 3"
   ],
   "metadata": {
    "id": "Sq1tv5fshTfv"
   }
  },
  {
   "cell_type": "code",
   "source": [
    "def counter(func):\n",
    "    \"\"\"\n",
    "    Декоратор, считающий и выводящий количество вызовов декорируемой функции\n",
    "    \"\"\"\n",
    "    @wraps(func)\n",
    "    def wrapper(*args, **kwargs):\n",
    "        if '_counter' not in globals():\n",
    "            global _counter\n",
    "            _counter = 1\n",
    "        else:\n",
    "            # global _counter\n",
    "            try:\n",
    "                _counter += 1\n",
    "            except:\n",
    "                _counter = 1\n",
    "        print(f'Функция была вызвана: {_counter} раз')\n",
    "        result = func(*args, **kwargs)\n",
    "        return result    \n",
    "    return wrapper"
   ],
   "metadata": {
    "id": "9nyvuxXkhVeb",
    "ExecuteTime": {
     "end_time": "2024-03-30T08:49:51.780825Z",
     "start_time": "2024-03-30T08:49:51.776885Z"
    }
   },
   "execution_count": 5,
   "outputs": []
  },
  {
   "cell_type": "markdown",
   "source": [
    "## Задание 4"
   ],
   "metadata": {
    "id": "uHn8Adfshz5q"
   }
  },
  {
   "cell_type": "code",
   "source": [
    "def memo(func):\n",
    "    \"\"\"\n",
    "    Декоратор, запоминающий результаты исполнения функции func, чьи аргументы args должны быть хешируемыми\n",
    "    \"\"\"\n",
    "    cache = {}\n",
    "    \n",
    "    wraps(func)\n",
    "    def fmemo(*args):\n",
    "        if args in cache:\n",
    "            return cache[args]\n",
    "        else:\n",
    "            result = func(*args)\n",
    "            cache[args] = result\n",
    "            return result\n",
    "    fmemo.cache = cache\n",
    "    return fmemo"
   ],
   "metadata": {
    "id": "R7uu6WtGifNX",
    "ExecuteTime": {
     "end_time": "2024-03-30T08:49:54.280379Z",
     "start_time": "2024-03-30T08:49:54.275178Z"
    }
   },
   "execution_count": 6,
   "outputs": []
  },
  {
   "cell_type": "markdown",
   "source": [
    "## Тестирование"
   ],
   "metadata": {
    "id": "Zn5UQCa_izxo"
   }
  },
  {
   "cell_type": "code",
   "source": [
    "@counter\n",
    "@logging\n",
    "@benchmark\n",
    "def word_count(word, url=BOOK_PATH):\n",
    "    \"\"\"\n",
    "    Функция для посчета указанного слова на html-странице\n",
    "    \"\"\"\n",
    "\n",
    "    # отправляем запрос в библиотеку Gutenberg и забираем текст\n",
    "    raw = requests.get(url).text\n",
    "\n",
    "    # заменяем в тексте все небуквенные символы на пробелы\n",
    "    processed_book = re.sub('[\\W]+' , ' ', raw).lower()\n",
    "\n",
    "    # считаем\n",
    "    cnt = len(re.findall(word.lower(), processed_book))\n",
    "\n",
    "    return f\"Cлово {word} встречается {cnt} раз\"\n",
    "\n",
    "print(word_count('whole'))"
   ],
   "metadata": {
    "id": "CHCJ64I8i2QB",
    "ExecuteTime": {
     "end_time": "2024-03-30T08:49:59.376217Z",
     "start_time": "2024-03-30T08:49:57.648882Z"
    }
   },
   "execution_count": 7,
   "outputs": [
    {
     "name": "stdout",
     "output_type": "stream",
     "text": [
      "Функция была вызвана: 1 раз\n",
      "Функция вызвана с параметрами:\n",
      "('whole',) {}\n",
      "Время выполнения функции word_count: 1.721802\n",
      "Cлово whole встречается 176 раз\n"
     ]
    }
   ]
  },
  {
   "cell_type": "code",
   "source": [
    "def fib(n):\n",
    "    if n < 2:\n",
    "        return n\n",
    "    return fib(n-2) + fib(n-1)"
   ],
   "metadata": {
    "id": "ZE4Rfn-hh3k3",
    "ExecuteTime": {
     "end_time": "2024-03-30T08:50:01.380134Z",
     "start_time": "2024-03-30T08:50:01.375592Z"
    }
   },
   "execution_count": 8,
   "outputs": []
  },
  {
   "cell_type": "code",
   "source": [
    "%%time\n",
    "# измеряем время выполнения\n",
    "test = fib(38)\n",
    "print(test)"
   ],
   "metadata": {
    "id": "Io94NyjiiXG4",
    "ExecuteTime": {
     "end_time": "2024-03-30T08:50:08.280556Z",
     "start_time": "2024-03-30T08:50:03.509769Z"
    }
   },
   "execution_count": 9,
   "outputs": [
    {
     "name": "stdout",
     "output_type": "stream",
     "text": [
      "39088169\n",
      "CPU times: total: 406 ms\n",
      "Wall time: 4.77 s\n"
     ]
    }
   ]
  },
  {
   "cell_type": "code",
   "source": [
    "@memo\n",
    "def fib(n):\n",
    "    if n < 2:\n",
    "        return n\n",
    "    return fib(n-2) + fib(n-1)"
   ],
   "metadata": {
    "id": "W9B3e-t9iTUj",
    "ExecuteTime": {
     "end_time": "2024-03-30T08:50:09.951234Z",
     "start_time": "2024-03-30T08:50:09.947137Z"
    }
   },
   "execution_count": 10,
   "outputs": []
  },
  {
   "cell_type": "code",
   "source": [
    "%%time\n",
    "# измеряем время выполнения\n",
    "test = fib(38)\n",
    "print(test)"
   ],
   "metadata": {
    "id": "Sk6_4KQaidkh",
    "ExecuteTime": {
     "end_time": "2024-03-30T08:48:51.107929Z",
     "start_time": "2024-03-30T08:48:51.100888Z"
    }
   },
   "execution_count": 69,
   "outputs": [
    {
     "name": "stdout",
     "output_type": "stream",
     "text": [
      "39088169\n",
      "CPU times: total: 0 ns\n",
      "Wall time: 0 ns\n"
     ]
    }
   ]
  },
  {
   "cell_type": "code",
   "outputs": [],
   "source": [],
   "metadata": {
    "collapsed": false
   }
  }
 ]
}
